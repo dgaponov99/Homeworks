{
 "cells": [
  {
   "cell_type": "code",
   "execution_count": 1,
   "metadata": {
    "collapsed": true
   },
   "outputs": [],
   "source": [
    "import LinkedCircularList_1\n",
    "\n",
    "l = LinkedCircularList_1.LinkedCircularList()"
   ]
  },
  {
   "cell_type": "code",
   "execution_count": 2,
   "metadata": {},
   "outputs": [
    {
     "name": "stdout",
     "output_type": "stream",
     "text": [
      "4 3 2 1 0 5 6 7 8 9 \n"
     ]
    }
   ],
   "source": [
    "for i in range(5):\n",
    "    l.add_right(i)\n",
    "for i in range(5, 10):\n",
    "    l.add_left(i)\n",
    "l.view_list()"
   ]
  },
  {
   "cell_type": "code",
   "execution_count": 3,
   "metadata": {},
   "outputs": [
    {
     "name": "stdout",
     "output_type": "stream",
     "text": [
      "4\n",
      "3 2 1 0 5 6 7 8 9 \n"
     ]
    }
   ],
   "source": [
    "print(l.pop_right())\n",
    "l.view_list()"
   ]
  },
  {
   "cell_type": "code",
   "execution_count": 4,
   "metadata": {},
   "outputs": [
    {
     "name": "stdout",
     "output_type": "stream",
     "text": [
      "3 2 1 0 5 6 7 8 \n"
     ]
    }
   ],
   "source": [
    "l.pop_left()\n",
    "l.view_list()"
   ]
  },
  {
   "cell_type": "code",
   "execution_count": 5,
   "metadata": {},
   "outputs": [
    {
     "name": "stdout",
     "output_type": "stream",
     "text": [
      "3 2 1 0 5 6 7 8 3 2 1 0 5 6 7 \n"
     ]
    }
   ],
   "source": [
    "l.view_elements(15)"
   ]
  },
  {
   "cell_type": "code",
   "execution_count": 6,
   "metadata": {},
   "outputs": [
    {
     "name": "stdout",
     "output_type": "stream",
     "text": [
      "3 2 1 0 5 6 7 8 3 2 1 0 5 6 7 8 3 2 1 0 5 6 7 8 \n"
     ]
    }
   ],
   "source": [
    "l.view_circle(3)"
   ]
  }
 ],
 "metadata": {
  "kernelspec": {
   "display_name": "Python 3",
   "language": "python",
   "name": "python3"
  },
  "language_info": {
   "codemirror_mode": {
    "name": "ipython",
    "version": 3
   },
   "file_extension": ".py",
   "mimetype": "text/x-python",
   "name": "python",
   "nbconvert_exporter": "python",
   "pygments_lexer": "ipython3",
   "version": "3.6.3"
  }
 },
 "nbformat": 4,
 "nbformat_minor": 2
}
