{
 "cells": [
  {
   "cell_type": "code",
   "execution_count": 14,
   "metadata": {},
   "outputs": [
    {
     "name": "stdout",
     "output_type": "stream",
     "text": [
      "Время заполнения шприца: 7\n",
      "Время инъекции: 9\n",
      "Время передачи шприца: 5\n",
      "Остаточное время жизни наркоманов: 5000\n",
      "Вывести жизнь наркоманов? [да/нет] нет\n",
      "\n",
      "Среднее время круга: 13.99\n"
     ]
    }
   ],
   "source": [
    "filling_time = int(input('Время заполнения шприца: '))\n",
    "injection_time = int(input('Время инъекции: '))\n",
    "transfer_time = int(input('Время передачи шприца: '))\n",
    "time = int(input('Остаточное время жизни наркоманов: '))\n",
    "\n",
    "filling_symbol = 'f'\n",
    "transfer_symbol = 't'\n",
    "injection_symbol = 'i'\n",
    "waiting_symbol = '-'\n",
    "\n",
    "\n",
    "class Addict:\n",
    "    def __init__(self):\n",
    "        self.time = []\n",
    "\n",
    "\n",
    "first_addict = Addict()\n",
    "second_addict = Addict()\n",
    "\n",
    "filling_flag = False\n",
    "transfer_flag = False\n",
    "injection_flag = False\n",
    "\n",
    "first_filling = 0\n",
    "first_injection = 0\n",
    "transfer_iter = 0\n",
    "\n",
    "first_round = filling_time + transfer_time\n",
    "subsequent_rounds = max(filling_time, injection_time) + transfer_time\n",
    "\n",
    "subsequent_steps = time - first_round\n",
    "\n",
    "for i in range(min(first_round, time)):\n",
    "    if i < filling_time:\n",
    "        first_addict.time.append(filling_symbol)\n",
    "        second_addict.time.append(waiting_symbol)\n",
    "    else:\n",
    "        first_addict.time.append(transfer_symbol)\n",
    "        second_addict.time.append(transfer_symbol)\n",
    "\n",
    "rounds = 0\n",
    "first_ratio = 1 if min(first_round, time) == first_round else 0\n",
    "\n",
    "x = []\n",
    "y = []\n",
    "\n",
    "if subsequent_steps > 0:\n",
    "    for i in range(subsequent_steps):\n",
    "        if not transfer_flag:\n",
    "            if not filling_flag and not injection_flag:\n",
    "                filling_flag = True\n",
    "                first_filling = i\n",
    "                first_addict.time.append(filling_symbol)\n",
    "                injection_flag = True\n",
    "                first_injection = i\n",
    "                second_addict.time.append(injection_symbol)\n",
    "            elif filling_flag and injection_flag:\n",
    "                if i - first_filling < filling_time:\n",
    "                    first_addict.time.append(filling_symbol)\n",
    "                else:\n",
    "                    filling_flag = False\n",
    "                    transfer_flag = not injection_flag\n",
    "\n",
    "                if i - first_injection < injection_time:\n",
    "                    second_addict.time.append(injection_symbol)\n",
    "                else:\n",
    "                    injection_flag = False\n",
    "                    transfer_flag = not filling_flag\n",
    "            elif filling_flag and not injection_flag:\n",
    "                if i - first_filling < filling_time:\n",
    "                    first_addict.time.append(filling_symbol)\n",
    "                else:\n",
    "                    filling_flag = False\n",
    "                    transfer_flag = not injection_flag\n",
    "                second_addict.time.append(waiting_symbol)\n",
    "            else:\n",
    "                if i - first_injection < injection_time:\n",
    "                    second_addict.time.append(injection_symbol)\n",
    "                else:\n",
    "                    injection_flag = False\n",
    "                    transfer_flag = not filling_flag\n",
    "                first_addict.time.append(waiting_symbol)\n",
    "        else:\n",
    "            if transfer_iter < transfer_time - 1:\n",
    "                transfer_iter += 1\n",
    "            else:\n",
    "                transfer_iter = 0\n",
    "                transfer_flag = False\n",
    "                rounds += 1\n",
    "            first_addict.time.append(transfer_symbol)\n",
    "            second_addict.time.append(transfer_symbol)\n",
    "            \n",
    "        average_time = int(((first_ratio * first_round + rounds * subsequent_rounds) / (rounds + 1)) * 100) / 100\n",
    "        x.append(i)\n",
    "        y.append(average_time)\n",
    "\n",
    "\n",
    "\n",
    "def try_float_to_int(value):\n",
    "    if value - int(value) == 0:\n",
    "        return int(value)\n",
    "    else:\n",
    "        return value\n",
    "\n",
    "\n",
    "average_time = try_float_to_int(average_time)\n",
    "\n",
    "output = input('Вывести жизнь наркоманов? [да/нет] ')\n",
    "\n",
    "if output == 'да':\n",
    "\n",
    "    print(\"\"\"\n",
    "    'f' - заполнение шприца\n",
    "    'i' - процесс инъекции\n",
    "    't' - передача шприца\n",
    "    '-' - ожидание\n",
    "    \"\"\")\n",
    "\n",
    "    print('Первый наркоман: Второй наркоман:')\n",
    "    for i in range(len(second_addict.time)):\n",
    "        print(first_addict.time[i], second_addict.time[i])\n",
    "print()\n",
    "print('Среднее время круга:', average_time)\n"
   ]
  },
  {
   "cell_type": "code",
   "execution_count": 15,
   "metadata": {},
   "outputs": [
    {
     "data": {
      "text/plain": [
       "[<matplotlib.lines.Line2D at 0x7f70f8d39e48>]"
      ]
     },
     "execution_count": 15,
     "metadata": {},
     "output_type": "execute_result"
    },
    {
     "data": {
      "image/png": "[encoded data removed]",
      "text/plain": [
       "<matplotlib.figure.Figure at 0x7f70f8f8cb00>"
      ]
     },
     "metadata": {},
     "output_type": "display_data"
    }
   ],
   "source": [
    "\n",
    "import matplotlib.pyplot as plt\n",
    "import numpy as np\n",
    "%matplotlib inline\n",
    "plt.title(\"Среднее от количества кругов: \")\n",
    "plt.plot(x, y, color = 'red')\n",
    "for i in range(len(x)): y[i] = subsequent_rounds\n",
    "plt.plot(x, y, color = 'green')"
   ]
  },
  {
   "cell_type": "code",
   "execution_count": null,
   "metadata": {
    "collapsed": true
   },
   "outputs": [],
   "source": []
  }
 ],
 "metadata": {
  "kernelspec": {
   "display_name": "Python 3",
   "language": "python",
   "name": "python3"
  },
  "language_info": {
   "codemirror_mode": {
    "name": "ipython",
    "version": 3
   },
   "file_extension": ".py",
   "mimetype": "text/x-python",
   "name": "python",
   "nbconvert_exporter": "python",
   "pygments_lexer": "ipython3",
   "version": "3.6.3"
  }
 },
 "nbformat": 4,
 "nbformat_minor": 2
}
